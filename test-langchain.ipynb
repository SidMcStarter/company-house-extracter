{
 "cells": [
  {
   "cell_type": "code",
   "execution_count": 25,
   "id": "1bb1486b",
   "metadata": {},
   "outputs": [],
   "source": [
    "from dotenv import load_dotenv\n",
    "import os\n",
    "from langchain_experimental.graph_transformers import LLMGraphTransformer\n",
    "from langchain_core.documents import Document\n",
    "from langchain_ollama.llms import OllamaLLM\n",
    "import asyncio\n",
    "from langchain_openai import ChatOpenAI"
   ]
  },
  {
   "cell_type": "code",
   "execution_count": 30,
   "id": "9cc6565b",
   "metadata": {},
   "outputs": [],
   "source": [
    "# Load environment variables\n",
    "load_dotenv()\n",
    "\n",
    "NEO4J_URI = \"neo4j://127.0.0.1:7687\"\n",
    "NEO4J_USER = os.getenv(\"NEO4J_USER\")\n",
    "NEO4J_PASSWORD = os.getenv(\"NEO4J_PASSWORD\")"
   ]
  },
  {
   "cell_type": "code",
   "execution_count": 3,
   "id": "9c1db37f",
   "metadata": {},
   "outputs": [],
   "source": [
    "# Define the LLM\n",
    "llm = ChatOpenAI(\n",
    "    model=\"gpt-4o\",\n",
    "    temperature=0.0,\n",
    ")"
   ]
  },
  {
   "cell_type": "code",
   "execution_count": 4,
   "id": "2f620141",
   "metadata": {},
   "outputs": [],
   "source": [
    "graph_transformer = LLMGraphTransformer(llm=llm)"
   ]
  },
  {
   "cell_type": "code",
   "execution_count": 6,
   "id": "bdf1d075",
   "metadata": {},
   "outputs": [
    {
     "data": {
      "text/plain": [
       "\"VODAFONE LIMITED\\nCompany No: 1471587\\nFINANCIAL STATEMENTS\\nFOR THE YEAR ENDED 31 MARCH 2011\\nAO1BZWBG*\\nMONDAY\\nA05\\n01/08/2011\\n55\\nCOMPANIES HOUSE\\n\\n--- End of Page 1 ---\\n\\nCompany No 1471587\\nVODAFONE LIMITED\\nREPORT OF THE DIRECTORS\\nThe directors submit their annual report and audited financial statements for the year ended\\n31 March 2011\\nPrincipal activity and review of business\\nThe principal activity of the Company continues to be the provision of telecommunications services\\nthrough its mobile network\\nThe key messages for the year for Vodafone's business in the UK (Vodafone UK), of which Vodafone\\nLimited Is the largest and major part, are summarised below\\nTurnover increased by 7 5 % (2010 decline of 7 3%) This was driven by growth in service revenue of 6 1%\\nmainly due to the increase in the customer base and increased average revenue per use (ARPU) In addition,\\ndata revenue also showed strong growth due to the higher penetration of smart phones and data bundles\\nThe above was also the principal reason for the increase in operating profit to £139 0m (2010 loss of\\n£13 6m) This was offset in part by costs related to restructuring and reorganisation of company's\\noperations\\nDespite the challenging economic situation throughout the financial year, the Company has continued to\\nfocus on increasing its customer base and cost reduction programmes To meet these objectives, Vodafone\\nLimited acquired the trade, assets and liabilities of several other group companies during the year (see note\\n23) at a total consideration of £1790 m The directors believe that with these acquisitions, Vodafone\\nLimited continues to evolve towards being a total communications provider, rebalancing mobile voice with\\nincreasing revenue from broadband data services\\nClosing customers were 19,172,400 (2010 19,017,534)\\nCharitable donations were made in the year of £2 0 m (2010 £2.0m) These consisted of amounts paid to\\nthe Vodafone Foundation, a Group registered charity\\nPage 1\\n-\\n\\n--- End of Page 1 ---\\n\\nCompany No 1471587\\nVODAFONE LIMITED\\nREPORT OF THE DIRECTORS (CONTINUED)\\nFinancial position and liquidity\\nThe balance sheet on page 10 of the financial statements shows the Company's financial position at the\\nend of the year\\nDuring the year the Company continued its capital expenditure programmes Total expenditure on tangible\\nfixed assets was £533 5m (2010 €493 1m), an increase of £40 4m The expenditure during the year\\npredominately relates to the Company's commitment to investing in its network infrastructure\\nThe increase in debtors to €3,665 1m (2010 €2,941 3m) is mainly due to an increase in amounts due\\nfrom trading intercompany balances and trade debtors This is offset to a lesser extent by a reduction in\\nthe taxation balances of £378 5m and a reduction in prepayments and accrued income as a result of\\nworking capital initiatives\\nThe increase in current creditors to €2,798 0m (2010 €2,261.1m) Is mainly due to an increase in amounts\\ndue to trading intercompany balances There is also an increase in trade creditors as a result of extended\\ntrading terms and an increase in accruals and deferred income due to increased accrued costs for smart\\nphone devices In addition, last year also included a group bank overdraft facility which was not utilised at\\n31 March 2011\\nThe increase in provisions for liabilities to £160 9m (2010 £106 1m) is predominantly due to the costs\\nassociated to the property portfolio and reclassification of certain balances from accruals to provisions\\nduring the year\\nNet amounts due to group undertakings decreased to £5,259 2m (2010 £5,836 6m) during the year For\\nfurther details of amounts payable to and due from the parent company and fellow subsidiary\\nundertakings, see notes 11, 12 and 13 of the financial statements\\nThe major source of liquidity for the Company comes from the cash generated from trading activities The\\nGroup's treasury function provides a centralised treasury service to the Company, including managing its\\ncash flow risks and follows a framework of policies and guidelines authorised and reviewed annually by the\\nGroup's management. Going concern is discussed within the statement of accounting policies (see note\\n1)\\nFinancial risk management\\nThe Company follows Group policy to manage its principal risks which include liquidity risk, market risk\\n(interest rate management and foreign exchange management) and credit risk. The Group's treasury\\nfunction provides a centralised service to the Group, including the Company, and follows a framework of\\npolicies and guidelines authorised and reviewed annually by the Group's management.\\nThe Group's internal auditors review the internal control environment regularly There has been no\\nsignificant change dunng the financial year to the types of financial risks faced by the Company, or the\\nCompany's approach to the management of those risks\\nFurther details of the Group's policies can be found in the annual report and financial statements of\\nVodafone Group Plc\\nPage 2\\n\\n--- End of Page 1 ---\\n\\nCompany No 1471587\\nVODAFONE LIMITED\\nREPORT OF THE DIRECTORS (CONTINUED)\\nResults and dividends\\nThe profit and loss account is set out on page 9 of the financial statements For the year ended\\n31 March 2011, there was a loss on ordinary activities after taxation of €131 2m (2010 loss of £260 3m)\\nThe directors do not recommend the payment of a dividend (2010 Enil)\\nDirectors\\nThe directors of the Company, who served throughout the year, unless indicated otherwise, are as follows\\nMH Bond\\nM Brearley\\n(resigned 17 December 2010)\\nJ Campbell\\nD Cloke\\n(appointed 4 January 2011)\\nD Crook\\nS Gopalan\\n(appointed 18 August 2010)\\nPJ A Kelly\\nSG Langkamp\\nG Laurence\\nJ M Mundy\\nT Nowak\\nA Thompson\\nAuditor\\nDeloitte LLP are willing to continue in office for the next financial year In addition the Company had\\npassed, prior to 1 October 2007, an elective resolution dispensing with the requirement to re-appoint its\\nauditor annually\\nRegistered office\\nThe registered office of the Company is at Vodafone House, The Connection, Newbury, Berkshire RG14\\n2FN\\nPage 3\\n\\n--- End of Page 1 ---\\n\\nCompany No 1471587\\nVODAFONE LIMITED\\nREPORT OF THE DIRECTORS (CONTINUED)\\nEmployee involvement and commitment\\nEmployee involvement and commitment is encouraged throughout the Company and is the responsibility\\nof the Board of directors\\nRegular contact and exchanges of information between managers and staff is maintained through team\\nbriefings, internal newsletters, company notices and informally via social functions\\nTeam briefings, which complements other forms of management communication, are a systematic\\nmethod of staff communication providing a structured approach to ensure that all levels in the\\norganisation are kept up-to-date, thereby increasing employee engagement.\\nThe directors of the Company are committed to the principle of employee share participation and\\naccordingly during the year have continued the Vodafone Group Plc 2008 Sharesave Plan and Vodafone\\nGroup Plc 1998 Sharesave Scheme These schemes provide employees with the opportunity to acquire\\nVodafone Group Plc shares on an advantageous basis and they are operated with tax benefits under HM\\nRevenue & Customs approved share scheme arrangements There is a high level of employee\\nparticipation\\nDisabled persons\\nThe Company is very conscious of the difficulties experienced by the disabled as regards to recruitment,\\ncontinuity of employment, training, development and promotion Its attitude concerning the employment\\nof disabled persons is the same as that relating to all other staff Individual circumstances are\\nsympathetically taken into account.\\nCreditor payment terms\\nIt is the Company's normal practice to agree terms of transactions, including payment terms, with suppliers\\nand provided suppliers perform in accordance with the agreed terms it is the Company's policy that\\npayment is made accordingly\\nCreditors' days were 62 at 31 March 2011 (2010 51)\\nPage 4\\n\\n--- End of Page 1 ---\\n\\nCompany No 1471587\\nVODAFONE LIMITED\\nREPORT OF THE DIRECTORS (CONTINUED)\\nStatement of directors' responsibilities\\nThe directors are responsible for preparing the annual report and the financial statements in accordance\\nwith applicable law and regulations\\nCompany law requires the directors to prepare financial statements for each financial year Under that law\\nthe directors have elected to prepare the financial statements in accordance with United Kingdom\\nGenerally Accepted Accounting Practice (United Kingdom Accounting Standards and applicable law)\\nUnder company law the directors must not approve the financial statements unless they are satisfied that\\nthey give a true and fair view of the state of affairs of the Company and of the profit or loss of the Company\\nfor that period In preparing these financial statements, the directors are required to\\nselect suitable accounting policies and then apply them consistently,\\nmake judgements and accounting estimates that are reasonable and prudent;\\nstate whether applicable UK Accounting Standards have been followed, subject to any\\nmatenal departures disclosed and explained in the financial statements, and\\nprepare the financial statements on the going concern basis unless it is inappropriate to\\npresume that the Company will continue In business\\nThe directors are responsible for keeping adequate accounting records that are sufficient to show and\\nexplain the Company's transactions and disclose with reasonable accuracy at any time the financial\\nposition of the Company and enable them to ensure that the financial statements comply with the\\nCompanies Act 2006 They are also responsible for safeguarding the assets of the Company and hence for\\ntaking reasonable steps for the prevention and detection of fraud and other irregularities\\nThe directors are responsible for the maintenance and integrity of the corporate and financial information\\nLegislation in the United Kingdom governing the preparation and dissemination of financial statements\\nmay differ from legislation in other jurisdictions\\nIndemnification of directors\\nIn accordance with the Company's articles of association and to the extent permitted by law, the directors\\nmay be granted an indemnity from the Company in respect of liabilities incurred as a result of their office\\nIn respect of those matters for which the directors may not be indemnified, Vodafone Group Plc maintained\\na directors' and officers' liability insurance policy throughout the year This policy is renewed annually In\\nAugust. Neither the Company's indemnity nor the insurance provides cover in the event that the director Is\\nproven to have acted dishonestly or fraudulently\\nPage 5\\n\\n--- End of Page 1 ---\\n\\nCompany No 1471587\\nVODAFONE LIMITED\\nREPORT OF THE DIRECTORS (CONTINUED)\\nStatement as to disclosure of information to auditor\\nHaving made the requisite enquiries, so far as the directors are aware, there is no relevant audit information\\n(as defined by Section 418 of the Companies Act 2006) of which the Company's auditor is unaware, and the\\ndirectors have taken all the steps they ought to have taken to make themselves aware of any relevant audit\\nInformation and to establish that the Company's auditor is aware of that information\\nThe report of the directors was approved by the Board on 2-June 2011 and signed on its behalf by\\nMark\\nT Nowak\\nDirector\\nPage 6\\n\\n--- End of Page 1 ---\\n\\nINDEPENDENT AUDITOR'S REPORT\\nto the members of\\nVODAFONE LIMITED\\nWe have audited the financial statements of Vodafone Limited for the year ended 31 March 2011 which\\ncomprise the Profit and Loss Account, the Balance Sheet and the related notes 1 to 26 The financial\\nreporting framework that has been applied in their preparation is applicable law and United Kingdom\\nAccounting Standards (United Kingdom Generally Accepted Accounting Practice).\\nThis report is made solely to the company's members, as a body, In accordance with Chapter 3 of Part\\n16 of the Companies Act 2006 Our audit work has been undertaken so that we might state to the\\ncompany's members those matters we are required to state to them in an auditor's report and for no\\nother purpose To the fullest extent permitted by law, we do not accept or assume responsibility to\\nanyone other than the Company and the Company's members as a body, for our audit work, for this\\nreport, or for the opinions we have formed\\nRespective responsibilities of directors and auditor\\nAs explained more fully in the Statement of Directors' Responsibilities, the directors are responsible for\\nthe preparation of the financial statements and for being satisfied that they give a true and fair view Our\\nresponsibility is to audit and express an opinion on the financial statements in accordance with\\napplicable law and International Standards on Auditing (UK and Ireland) Those standards require us to\\ncomply with the Auditing Practices Board's Ethical Standards for Auditors\\nScope of the audit of the financial statements\\nAn audit involves obtaining evidence about the amounts and disclosures in the financial statements\\nsufficient to give reasonable assurance that the financial statements are free from matenal\\nmisstatement, whether caused by fraud or error This includes an assessment of whether the\\naccounting policies are appropriate to the company's circumstances and have been consistently applied\\nand adequately disclosed, the reasonableness of significant accounting estimates made by the\\ndirectors, and the overall presentation of the financial statements\\nPage 7\\n-\\n\\n--- End of Page 1 ---\\n\\nINDEPENDENT AUDITORS' REPORT\\nto the members of\\nVODAFONE LIMITED (Continued)\\nOpinion on the financial statements\\nIn our opinion the financial statements\\ngive a true and fair view of the state of the company's affairs as at 31 March 2011 and of its loss for\\nthe year then ended,\\nhave been properly prepared in accordance with United Kingdom Generally Accepted Accounting\\nPractice, and\\nhave been prepared in accordance with the requirements of the Companies Act 2006\\nOpinion on other matters prescribed by the Companies Act 2006\\nIn our opinion the information given in the Directors' Report for the financial year for which the financial\\nstatements are prepared is consistent with the financial statements\\nMatters on which we are required to report by exception\\nWe have nothing to report in respect of the following matters where the Companies Act 2006 requires us\\nto report to you if, in our opinion.\\n.\\nadequate accounting records have not been kept, or returns adequate for our audit have not been\\nreceived from branches not visited by us, or\\nthe financial statements are not in agreement with the accounting records and returns, or\\ncertain disclosures of directors' remuneration specified by law are not made, or\\n-\\nwe have not received all the information and explanations we require for our audit\\nSimon Kerton-Johnson (Senior Statutory Auditor)\\nfor and on behalf of Deloitte LLP\\nChartered Accountants and Statutory Auditor\\nLondon, UK\\n23 June 2011\\nPage 8\\n\\n--- End of Page 1 ---\\n\\nVODAFONE LIMITED\\nPROFIT AND LOSS ACCOUNT\\nFOR THE YEAR ENDED 31 MARCH 2011\\nNotes\\n2011\\n2010\\nEm\\nEm\\nTurnover\\n2,3\\n5,162 8\\n4,800 5\\nOperating profit/(loss) on continuing operations\\n3\\n1390\\n(13 6)\\nLoss on disposal of tangible assets\\n(10 5)\\n(19 1)\\nLoss on disposal of intangible assets\\n(3.5)\\nNet interest payable\\n6\\n(297 1)\\n(286 9)\\nLoss on ordinary activities before taxation\\n(168.6)\\n(323 1)\\nTax credit on loss on ordinary activities\\n7\\n374\\n62 8\\nLoss for the financial year\\n18\\n(131 2)\\n(260 3)\\nThe Company has no other recognised gains and losses in the current or preceding year and therefore,\\nno separate statement of total recognised gains and losses has been prepared. There have been no\\nmovements in equity shareholders' funds other than the loss for the year and prior year and the credit to\\nequity for share based payments\\nAll results derive from continuing operations\\nThe accompanying notes are an integral part of these financial statements\\nPage 9\\n\\n--- End of Page 1 ---\\n\\nCompany No 1471587\\nVODAFONE LIMITED\\nBALANCE SHEET\\nAT 31 MARCH 2011\\nNotes\\n2011\\n2010\\n£m\\nEm\\nFixed assets\\nIntangible assets\\n8\\n3,739 1\\n4,090 8\\nTangible assets\\n9\\n2,201 6\\n2,158 8\\n5,940 7\\n6,249 6\\nCurrent assets\\nStocks\\n10\\n81.5\\n612\\nDebtors amounts falling due within one year\\n11\\n3,609 2\\n2,506 9\\nDebtors amounts due after more than one year\\n11\\n55 9\\n434 4\\nCash at bank and in hand\\n176\\n3,764 2\\n3,002 5\\nCreditors amounts falling due within one year\\n12\\n(2,798 0)\\n(2,261 1)\\nNET CURRENT ASSETS\\n966 2\\n741 4\\nTOTAL ASSETS LESS CURRENT LIABILITIES\\n6,906.9\\n6,991.0\\nCreditors amounts falling due after more than one\\nyear\\n13\\n(6,290 5)\\n(6,292 5)\\nPROVISIONS FOR LIABILITIES\\n14\\n(160 9)\\n(106 1)\\nNET ASSETS\\n455 5\\n592 4\\nCAPITAL AND RESERVES\\nCalled up share capital\\n16\\nShare-based payment reserve\\n17\\n125\\n182\\nReserves\\n18\\n443 0\\n5742\\nTOTAL SHAREHOLDERS' FUNDS\\n455 5\\n592 4\\nThe financial statements were approved by the Board on Z June 2011, and were signed on its behalf by\\nMauli\\nT Nowak\\nDirector\\nThe accompanying notes are an integral part of these financial statements\\nPage 10\\n\\n--- End of Page 1 ---\\n\\n\""
      ]
     },
     "execution_count": 6,
     "metadata": {},
     "output_type": "execute_result"
    }
   ],
   "source": [
    "# Read the document\n",
    "with open(\"documents/AA_MzA0MTYzNDYxN2FkaXF6a2N4-pages.txt\") as f:\n",
    "    text = f.read()\n",
    "text"
   ]
  },
  {
   "cell_type": "code",
   "execution_count": 8,
   "id": "e49cd134",
   "metadata": {},
   "outputs": [],
   "source": [
    "pages = text.split(\"--- End of Page\")\n",
    "documents = [Document(page_content=page.strip()) for page in pages if page.strip()]\n",
    "documents = documents[:2]  # Limit to first 2 pages for testing"
   ]
  },
  {
   "cell_type": "code",
   "execution_count": 9,
   "id": "7b281bcf",
   "metadata": {},
   "outputs": [],
   "source": [
    "graph_documents = await graph_transformer.aconvert_to_graph_documents(documents)"
   ]
  },
  {
   "cell_type": "code",
   "execution_count": 13,
   "id": "7d5a77d8",
   "metadata": {},
   "outputs": [
    {
     "name": "stdout",
     "output_type": "stream",
     "text": [
      "NODES [Node(id='Vodafone Limited', type='Organization', properties={}), Node(id='1471587', type='Identifier', properties={}), Node(id='31 March 2011', type='Date', properties={}), Node(id='01/08/2011', type='Date', properties={}), Node(id='Companies House', type='Organization', properties={})]\n",
      "RELATIONSHIPS [Relationship(source=Node(id='Vodafone Limited', type='Organization', properties={}), target=Node(id='1471587', type='Identifier', properties={}), type='HAS_IDENTIFIER', properties={}), Relationship(source=Node(id='Vodafone Limited', type='Organization', properties={}), target=Node(id='31 March 2011', type='Date', properties={}), type='FINANCIAL_STATEMENTS_END_DATE', properties={}), Relationship(source=Node(id='Vodafone Limited', type='Organization', properties={}), target=Node(id='01/08/2011', type='Date', properties={}), type='DOCUMENT_DATE', properties={}), Relationship(source=Node(id='Vodafone Limited', type='Organization', properties={}), target=Node(id='Companies House', type='Organization', properties={}), type='FILED_WITH', properties={})]\n"
     ]
    }
   ],
   "source": [
    "print(\"NODES\", graph_documents[0].nodes)\n",
    "print(\"RELATIONSHIPS\", graph_documents[0].relationships)"
   ]
  },
  {
   "cell_type": "code",
   "execution_count": 14,
   "id": "850eb63a",
   "metadata": {},
   "outputs": [
    {
     "name": "stdout",
     "output_type": "stream",
     "text": [
      "--- Document 1 ---\n",
      "NODES:\n",
      "id='Vodafone Limited' type='Organization' properties={}\n",
      "id='1471587' type='Identifier' properties={}\n",
      "id='31 March 2011' type='Date' properties={}\n",
      "id='01/08/2011' type='Date' properties={}\n",
      "id='Companies House' type='Organization' properties={}\n",
      "RELATIONSHIPS:\n",
      "source=Node(id='Vodafone Limited', type='Organization', properties={}) target=Node(id='1471587', type='Identifier', properties={}) type='HAS_IDENTIFIER' properties={}\n",
      "source=Node(id='Vodafone Limited', type='Organization', properties={}) target=Node(id='31 March 2011', type='Date', properties={}) type='FINANCIAL_STATEMENTS_END_DATE' properties={}\n",
      "source=Node(id='Vodafone Limited', type='Organization', properties={}) target=Node(id='01/08/2011', type='Date', properties={}) type='DOCUMENT_DATE' properties={}\n",
      "source=Node(id='Vodafone Limited', type='Organization', properties={}) target=Node(id='Companies House', type='Organization', properties={}) type='FILED_WITH' properties={}\n",
      "\n",
      "--- Document 2 ---\n",
      "NODES:\n",
      "id='Company No 1471587' type='Company' properties={}\n",
      "id='Vodafone Limited' type='Company' properties={}\n",
      "id='Telecommunications Services' type='Service' properties={}\n",
      "id='Mobile Network' type='Infrastructure' properties={}\n",
      "id='Vodafone Uk' type='Company' properties={}\n",
      "id='Turnover' type='Financial metric' properties={}\n",
      "id='Service Revenue' type='Financial metric' properties={}\n",
      "id='Customer Base' type='Business metric' properties={}\n",
      "id='Average Revenue Per Use (Arpu)' type='Financial metric' properties={}\n",
      "id='Data Revenue' type='Financial metric' properties={}\n",
      "id='Smart Phones' type='Product' properties={}\n",
      "id='Data Bundles' type='Product' properties={}\n",
      "id='Operating Profit' type='Financial metric' properties={}\n",
      "id='Restructuring And Reorganisation' type='Business activity' properties={}\n",
      "id='Economic Situation' type='Economic condition' properties={}\n",
      "id='Cost Reduction Programmes' type='Business strategy' properties={}\n",
      "id='Trade, Assets And Liabilities' type='Business asset' properties={}\n",
      "id='Broadband Data Services' type='Service' properties={}\n",
      "id='Closing Customers' type='Business metric' properties={}\n",
      "id='Charitable Donations' type='Financial activity' properties={}\n",
      "id='Vodafone Foundation' type='Organization' properties={}\n",
      "RELATIONSHIPS:\n",
      "source=Node(id='Vodafone Limited', type='Company', properties={}) target=Node(id='Company No 1471587', type='Company', properties={}) type='IDENTIFIER' properties={}\n",
      "source=Node(id='Vodafone Limited', type='Company', properties={}) target=Node(id='Telecommunications Services', type='Service', properties={}) type='PROVIDES' properties={}\n",
      "source=Node(id='Vodafone Limited', type='Company', properties={}) target=Node(id='Mobile Network', type='Infrastructure', properties={}) type='USES' properties={}\n",
      "source=Node(id='Vodafone Limited', type='Company', properties={}) target=Node(id='Vodafone Uk', type='Company', properties={}) type='PART_OF' properties={}\n",
      "source=Node(id='Turnover', type='Financial metric', properties={}) target=Node(id='7.5%', type='Financial metric', properties={}) type='INCREASED_BY' properties={}\n",
      "source=Node(id='Service Revenue', type='Financial metric', properties={}) target=Node(id='6.1%', type='Financial metric', properties={}) type='INCREASED_BY' properties={}\n",
      "source=Node(id='Service Revenue', type='Financial metric', properties={}) target=Node(id='Customer Base', type='Business metric', properties={}) type='DRIVEN_BY' properties={}\n",
      "source=Node(id='Service Revenue', type='Financial metric', properties={}) target=Node(id='Average Revenue Per Use (Arpu)', type='Financial metric', properties={}) type='DRIVEN_BY' properties={}\n",
      "source=Node(id='Data Revenue', type='Financial metric', properties={}) target=Node(id='Smart Phones', type='Product', properties={}) type='INCREASED_BY' properties={}\n",
      "source=Node(id='Data Revenue', type='Financial metric', properties={}) target=Node(id='Data Bundles', type='Product', properties={}) type='INCREASED_BY' properties={}\n",
      "source=Node(id='Operating Profit', type='Financial metric', properties={}) target=Node(id='£139.0M', type='Financial metric', properties={}) type='AMOUNT' properties={}\n",
      "source=Node(id='Operating Profit', type='Financial metric', properties={}) target=Node(id='Restructuring And Reorganisation', type='Business activity', properties={}) type='OFFSET_BY' properties={}\n",
      "source=Node(id='Vodafone Limited', type='Company', properties={}) target=Node(id='Economic Situation', type='Economic condition', properties={}) type='CHALLENGED_BY' properties={}\n",
      "source=Node(id='Vodafone Limited', type='Company', properties={}) target=Node(id='Cost Reduction Programmes', type='Business strategy', properties={}) type='FOCUSES_ON' properties={}\n",
      "source=Node(id='Vodafone Limited', type='Company', properties={}) target=Node(id='Trade, Assets And Liabilities', type='Business asset', properties={}) type='ACQUIRED' properties={}\n",
      "source=Node(id='Vodafone Limited', type='Company', properties={}) target=Node(id='Broadband Data Services', type='Service', properties={}) type='PROVIDES' properties={}\n",
      "source=Node(id='Closing Customers', type='Business metric', properties={}) target=Node(id='19,172,400', type='Business metric', properties={}) type='AMOUNT' properties={}\n",
      "source=Node(id='Charitable Donations', type='Financial activity', properties={}) target=Node(id='£2.0M', type='Financial metric', properties={}) type='AMOUNT' properties={}\n",
      "source=Node(id='Charitable Donations', type='Financial activity', properties={}) target=Node(id='Vodafone Foundation', type='Organization', properties={}) type='MADE_TO' properties={}\n",
      "\n"
     ]
    }
   ],
   "source": [
    "for i, gd in enumerate(graph_documents):\n",
    "    print(f\"--- Document {i+1} ---\")\n",
    "    print(\"NODES:\")\n",
    "    for node in gd.nodes:\n",
    "        print(node)\n",
    "    print(\"RELATIONSHIPS:\")\n",
    "    for rel in gd.relationships:\n",
    "        print(rel)\n",
    "    print()"
   ]
  },
  {
   "cell_type": "code",
   "execution_count": 22,
   "id": "fda1ef59",
   "metadata": {},
   "outputs": [
    {
     "name": "stdout",
     "output_type": "stream",
     "text": [
      "Prompt tokens used: 4727\n",
      "Completion tokens used: 3679\n",
      "Total tokens used: 8406\n",
      "Total cost (USD): $0.048607\n"
     ]
    }
   ],
   "source": [
    "from langchain.callbacks import get_openai_callback\n",
    "\n",
    "# Prepare the document\n",
    "documents = [Document(page_content=text.strip())]\n",
    "\n",
    "with get_openai_callback() as cb:\n",
    "    graph_documents = await graph_transformer.aconvert_to_graph_documents(documents)\n",
    "\n",
    "    # After this point, you can inspect the callback\n",
    "    print(f\"Prompt tokens used: {cb.prompt_tokens}\")\n",
    "    print(f\"Completion tokens used: {cb.completion_tokens}\")\n",
    "    print(f\"Total tokens used: {cb.total_tokens}\")\n",
    "    print(f\"Total cost (USD): ${cb.total_cost:.6f}\")\n"
   ]
  },
  {
   "cell_type": "code",
   "execution_count": 23,
   "id": "83904c76",
   "metadata": {},
   "outputs": [
    {
     "name": "stdout",
     "output_type": "stream",
     "text": [
      "Graph Documents:\n",
      "--- Document 1 ---\n",
      "NODES:\n",
      "id='Vodafone Limited' type='Organization' properties={}\n",
      "id='1471587' type='Identifier' properties={}\n",
      "id='Telecommunications Services' type='Service' properties={}\n",
      "id='31 March 2011' type='Date' properties={}\n",
      "id='£139.0M' type='Financial_value' properties={}\n",
      "id='£13.6M' type='Financial_value' properties={}\n",
      "id='£179.0M' type='Financial_value' properties={}\n",
      "id='19,172,400' type='Quantity' properties={}\n",
      "id='£2.0M' type='Financial_value' properties={}\n",
      "id='Vodafone Foundation' type='Organization' properties={}\n",
      "id='£533.5M' type='Financial_value' properties={}\n",
      "id='£493.1M' type='Financial_value' properties={}\n",
      "id='£40.4M' type='Financial_value' properties={}\n",
      "id='£3,665.1M' type='Financial_value' properties={}\n",
      "id='£2,941.3M' type='Financial_value' properties={}\n",
      "id='£378.5M' type='Financial_value' properties={}\n",
      "id='£2,798.0M' type='Financial_value' properties={}\n",
      "id='£2,261.1M' type='Financial_value' properties={}\n",
      "id='£160.9M' type='Financial_value' properties={}\n",
      "id='£106.1M' type='Financial_value' properties={}\n",
      "id='£5,259.2M' type='Financial_value' properties={}\n",
      "id='£5,836.6M' type='Financial_value' properties={}\n",
      "id='£131.2M' type='Financial_value' properties={}\n",
      "id='£260.3M' type='Financial_value' properties={}\n",
      "id='Mh Bond' type='Person' properties={}\n",
      "id='M Brearley' type='Person' properties={}\n",
      "id='J Campbell' type='Person' properties={}\n",
      "id='D Cloke' type='Person' properties={}\n",
      "id='D Crook' type='Person' properties={}\n",
      "id='S Gopalan' type='Person' properties={}\n",
      "id='Pj A Kelly' type='Person' properties={}\n",
      "id='Sg Langkamp' type='Person' properties={}\n",
      "id='G Laurence' type='Person' properties={}\n",
      "id='J M Mundy' type='Person' properties={}\n",
      "id='T Nowak' type='Person' properties={}\n",
      "id='A Thompson' type='Person' properties={}\n",
      "id='Deloitte Llp' type='Organization' properties={}\n",
      "id='Vodafone House, The Connection, Newbury, Berkshire Rg14 2Fn' type='Address' properties={}\n",
      "id='2 June 2011' type='Date' properties={}\n",
      "id='23 June 2011' type='Date' properties={}\n",
      "id='£5,162.8M' type='Financial_value' properties={}\n",
      "id='£4,800.5M' type='Financial_value' properties={}\n",
      "id='£10.5M' type='Financial_value' properties={}\n",
      "id='£19.1M' type='Financial_value' properties={}\n",
      "id='£297.1M' type='Financial_value' properties={}\n",
      "id='£286.9M' type='Financial_value' properties={}\n",
      "id='£168.6M' type='Financial_value' properties={}\n",
      "id='£32.8M' type='Financial_value' properties={}\n",
      "id='£3,739.1M' type='Financial_value' properties={}\n",
      "id='£4,090.8M' type='Financial_value' properties={}\n",
      "id='£2,201.6M' type='Financial_value' properties={}\n",
      "id='£2,158.8M' type='Financial_value' properties={}\n",
      "id='£81.5M' type='Financial_value' properties={}\n",
      "id='£61.2M' type='Financial_value' properties={}\n",
      "id='£3,609.2M' type='Financial_value' properties={}\n",
      "id='£2,506.9M' type='Financial_value' properties={}\n",
      "id='£55.9M' type='Financial_value' properties={}\n",
      "id='£434.4M' type='Financial_value' properties={}\n",
      "id='£176M' type='Financial_value' properties={}\n",
      "id='£966.2M' type='Financial_value' properties={}\n",
      "id='£741.4M' type='Financial_value' properties={}\n",
      "id='£6,906.9M' type='Financial_value' properties={}\n",
      "id='£6,991.0M' type='Financial_value' properties={}\n",
      "id='£6,290.5M' type='Financial_value' properties={}\n",
      "id='£6,292.5M' type='Financial_value' properties={}\n",
      "id='£455.5M' type='Financial_value' properties={}\n",
      "id='£592.4M' type='Financial_value' properties={}\n",
      "id='£1.25M' type='Financial_value' properties={}\n",
      "id='£1.82M' type='Financial_value' properties={}\n",
      "id='£443.0M' type='Financial_value' properties={}\n",
      "id='£574.2M' type='Financial_value' properties={}\n",
      "RELATIONSHIPS:\n",
      "source=Node(id='Vodafone Limited', type='Organization', properties={}) target=Node(id='1471587', type='Identifier', properties={}) type='IDENTIFIER' properties={}\n",
      "source=Node(id='Vodafone Limited', type='Organization', properties={}) target=Node(id='Telecommunications Services', type='Service', properties={}) type='PROVIDES' properties={}\n",
      "source=Node(id='Vodafone Limited', type='Organization', properties={}) target=Node(id='31 March 2011', type='Date', properties={}) type='FINANCIAL_STATEMENTS_END_DATE' properties={}\n",
      "source=Node(id='Vodafone Limited', type='Organization', properties={}) target=Node(id='£139.0M', type='Financial_value', properties={}) type='OPERATING_PROFIT' properties={}\n",
      "source=Node(id='Vodafone Limited', type='Organization', properties={}) target=Node(id='£13.6M', type='Financial_value', properties={}) type='OPERATING_LOSS_PREVIOUS_YEAR' properties={}\n",
      "source=Node(id='Vodafone Limited', type='Organization', properties={}) target=Node(id='£179.0M', type='Financial_value', properties={}) type='ACQUISITION_COST' properties={}\n",
      "source=Node(id='Vodafone Limited', type='Organization', properties={}) target=Node(id='19,172,400', type='Quantity', properties={}) type='CUSTOMER_COUNT' properties={}\n",
      "source=Node(id='Vodafone Limited', type='Organization', properties={}) target=Node(id='£2.0M', type='Financial_value', properties={}) type='CHARITABLE_DONATIONS' properties={}\n",
      "source=Node(id='Vodafone Limited', type='Organization', properties={}) target=Node(id='Vodafone Foundation', type='Organization', properties={}) type='DONATED_TO' properties={}\n",
      "source=Node(id='Vodafone Limited', type='Organization', properties={}) target=Node(id='£533.5M', type='Financial_value', properties={}) type='CAPITAL_EXPENDITURE' properties={}\n",
      "source=Node(id='Vodafone Limited', type='Organization', properties={}) target=Node(id='£493.1M', type='Financial_value', properties={}) type='CAPITAL_EXPENDITURE_PREVIOUS_YEAR' properties={}\n",
      "source=Node(id='Vodafone Limited', type='Organization', properties={}) target=Node(id='£40.4M', type='Financial_value', properties={}) type='CAPITAL_EXPENDITURE_INCREASE' properties={}\n",
      "source=Node(id='Vodafone Limited', type='Organization', properties={}) target=Node(id='£3,665.1M', type='Financial_value', properties={}) type='DEBTORS' properties={}\n",
      "source=Node(id='Vodafone Limited', type='Organization', properties={}) target=Node(id='£2,941.3M', type='Financial_value', properties={}) type='DEBTORS_PREVIOUS_YEAR' properties={}\n",
      "source=Node(id='Vodafone Limited', type='Organization', properties={}) target=Node(id='£378.5M', type='Financial_value', properties={}) type='TAXATION_BALANCE_REDUCTION' properties={}\n",
      "source=Node(id='Vodafone Limited', type='Organization', properties={}) target=Node(id='£2,798.0M', type='Financial_value', properties={}) type='CURRENT_CREDITORS' properties={}\n",
      "source=Node(id='Vodafone Limited', type='Organization', properties={}) target=Node(id='£2,261.1M', type='Financial_value', properties={}) type='CURRENT_CREDITORS_PREVIOUS_YEAR' properties={}\n",
      "source=Node(id='Vodafone Limited', type='Organization', properties={}) target=Node(id='£160.9M', type='Financial_value', properties={}) type='PROVISIONS_FOR_LIABILITIES' properties={}\n",
      "source=Node(id='Vodafone Limited', type='Organization', properties={}) target=Node(id='£106.1M', type='Financial_value', properties={}) type='PROVISIONS_FOR_LIABILITIES_PREVIOUS_YEAR' properties={}\n",
      "source=Node(id='Vodafone Limited', type='Organization', properties={}) target=Node(id='£5,259.2M', type='Financial_value', properties={}) type='NET_DUE_TO_GROUP_UNDERTAKINGS' properties={}\n",
      "source=Node(id='Vodafone Limited', type='Organization', properties={}) target=Node(id='£5,836.6M', type='Financial_value', properties={}) type='NET_DUE_TO_GROUP_UNDERTAKINGS_PREVIOUS_YEAR' properties={}\n",
      "source=Node(id='Vodafone Limited', type='Organization', properties={}) target=Node(id='£131.2M', type='Financial_value', properties={}) type='LOSS_AFTER_TAXATION' properties={}\n",
      "source=Node(id='Vodafone Limited', type='Organization', properties={}) target=Node(id='£260.3M', type='Financial_value', properties={}) type='LOSS_AFTER_TAXATION_PREVIOUS_YEAR' properties={}\n",
      "source=Node(id='Vodafone Limited', type='Organization', properties={}) target=Node(id='Mh Bond', type='Person', properties={}) type='DIRECTOR' properties={}\n",
      "source=Node(id='Vodafone Limited', type='Organization', properties={}) target=Node(id='M Brearley', type='Person', properties={}) type='DIRECTOR' properties={}\n",
      "source=Node(id='Vodafone Limited', type='Organization', properties={}) target=Node(id='J Campbell', type='Person', properties={}) type='DIRECTOR' properties={}\n",
      "source=Node(id='Vodafone Limited', type='Organization', properties={}) target=Node(id='D Cloke', type='Person', properties={}) type='DIRECTOR' properties={}\n",
      "source=Node(id='Vodafone Limited', type='Organization', properties={}) target=Node(id='D Crook', type='Person', properties={}) type='DIRECTOR' properties={}\n",
      "source=Node(id='Vodafone Limited', type='Organization', properties={}) target=Node(id='S Gopalan', type='Person', properties={}) type='DIRECTOR' properties={}\n",
      "source=Node(id='Vodafone Limited', type='Organization', properties={}) target=Node(id='Pj A Kelly', type='Person', properties={}) type='DIRECTOR' properties={}\n",
      "source=Node(id='Vodafone Limited', type='Organization', properties={}) target=Node(id='Sg Langkamp', type='Person', properties={}) type='DIRECTOR' properties={}\n",
      "source=Node(id='Vodafone Limited', type='Organization', properties={}) target=Node(id='G Laurence', type='Person', properties={}) type='DIRECTOR' properties={}\n",
      "source=Node(id='Vodafone Limited', type='Organization', properties={}) target=Node(id='J M Mundy', type='Person', properties={}) type='DIRECTOR' properties={}\n",
      "source=Node(id='Vodafone Limited', type='Organization', properties={}) target=Node(id='T Nowak', type='Person', properties={}) type='DIRECTOR' properties={}\n",
      "source=Node(id='Vodafone Limited', type='Organization', properties={}) target=Node(id='A Thompson', type='Person', properties={}) type='DIRECTOR' properties={}\n",
      "source=Node(id='Vodafone Limited', type='Organization', properties={}) target=Node(id='Deloitte Llp', type='Organization', properties={}) type='AUDITOR' properties={}\n",
      "source=Node(id='Vodafone Limited', type='Organization', properties={}) target=Node(id='Vodafone House, The Connection, Newbury, Berkshire Rg14 2Fn', type='Address', properties={}) type='REGISTERED_OFFICE' properties={}\n",
      "source=Node(id='Vodafone Limited', type='Organization', properties={}) target=Node(id='2 June 2011', type='Date', properties={}) type='DIRECTORS_REPORT_APPROVAL_DATE' properties={}\n",
      "source=Node(id='Vodafone Limited', type='Organization', properties={}) target=Node(id='23 June 2011', type='Date', properties={}) type='AUDITORS_REPORT_DATE' properties={}\n",
      "source=Node(id='Vodafone Limited', type='Organization', properties={}) target=Node(id='£5,162.8M', type='Financial_value', properties={}) type='TURNOVER' properties={}\n",
      "source=Node(id='Vodafone Limited', type='Organization', properties={}) target=Node(id='£4,800.5M', type='Financial_value', properties={}) type='TURNOVER_PREVIOUS_YEAR' properties={}\n",
      "source=Node(id='Vodafone Limited', type='Organization', properties={}) target=Node(id='£10.5M', type='Financial_value', properties={}) type='LOSS_ON_DISPOSAL_TANGIBLE_ASSETS' properties={}\n",
      "source=Node(id='Vodafone Limited', type='Organization', properties={}) target=Node(id='£19.1M', type='Financial_value', properties={}) type='LOSS_ON_DISPOSAL_TANGIBLE_ASSETS_PREVIOUS_YEAR' properties={}\n",
      "source=Node(id='Vodafone Limited', type='Organization', properties={}) target=Node(id='£297.1M', type='Financial_value', properties={}) type='NET_INTEREST_PAYABLE' properties={}\n",
      "source=Node(id='Vodafone Limited', type='Organization', properties={}) target=Node(id='£286.9M', type='Financial_value', properties={}) type='NET_INTEREST_PAYABLE_PREVIOUS_YEAR' properties={}\n",
      "source=Node(id='Vodafone Limited', type='Organization', properties={}) target=Node(id='£168.6M', type='Financial_value', properties={}) type='LOSS_BEFORE_TAXATION' properties={}\n",
      "source=Node(id='Vodafone Limited', type='Organization', properties={}) target=Node(id='£32.8M', type='Financial_value', properties={}) type='TAX_CREDIT' properties={}\n",
      "source=Node(id='Vodafone Limited', type='Organization', properties={}) target=Node(id='£3,739.1M', type='Financial_value', properties={}) type='INTANGIBLE_ASSETS' properties={}\n",
      "source=Node(id='Vodafone Limited', type='Organization', properties={}) target=Node(id='£4,090.8M', type='Financial_value', properties={}) type='INTANGIBLE_ASSETS_PREVIOUS_YEAR' properties={}\n",
      "source=Node(id='Vodafone Limited', type='Organization', properties={}) target=Node(id='£2,201.6M', type='Financial_value', properties={}) type='TANGIBLE_ASSETS' properties={}\n",
      "source=Node(id='Vodafone Limited', type='Organization', properties={}) target=Node(id='£2,158.8M', type='Financial_value', properties={}) type='TANGIBLE_ASSETS_PREVIOUS_YEAR' properties={}\n",
      "source=Node(id='Vodafone Limited', type='Organization', properties={}) target=Node(id='£81.5M', type='Financial_value', properties={}) type='STOCKS' properties={}\n",
      "source=Node(id='Vodafone Limited', type='Organization', properties={}) target=Node(id='£61.2M', type='Financial_value', properties={}) type='STOCKS_PREVIOUS_YEAR' properties={}\n",
      "source=Node(id='Vodafone Limited', type='Organization', properties={}) target=Node(id='£3,609.2M', type='Financial_value', properties={}) type='DEBTORS_WITHIN_ONE_YEAR' properties={}\n",
      "source=Node(id='Vodafone Limited', type='Organization', properties={}) target=Node(id='£2,506.9M', type='Financial_value', properties={}) type='DEBTORS_WITHIN_ONE_YEAR_PREVIOUS_YEAR' properties={}\n",
      "source=Node(id='Vodafone Limited', type='Organization', properties={}) target=Node(id='£55.9M', type='Financial_value', properties={}) type='DEBTORS_AFTER_ONE_YEAR' properties={}\n",
      "source=Node(id='Vodafone Limited', type='Organization', properties={}) target=Node(id='£434.4M', type='Financial_value', properties={}) type='DEBTORS_AFTER_ONE_YEAR_PREVIOUS_YEAR' properties={}\n",
      "source=Node(id='Vodafone Limited', type='Organization', properties={}) target=Node(id='£176M', type='Financial_value', properties={}) type='CASH_AT_BANK' properties={}\n",
      "source=Node(id='Vodafone Limited', type='Organization', properties={}) target=Node(id='£966.2M', type='Financial_value', properties={}) type='NET_CURRENT_ASSETS' properties={}\n",
      "source=Node(id='Vodafone Limited', type='Organization', properties={}) target=Node(id='£741.4M', type='Financial_value', properties={}) type='NET_CURRENT_ASSETS_PREVIOUS_YEAR' properties={}\n",
      "source=Node(id='Vodafone Limited', type='Organization', properties={}) target=Node(id='£6,906.9M', type='Financial_value', properties={}) type='TOTAL_ASSETS_LESS_CURRENT_LIABILITIES' properties={}\n",
      "source=Node(id='Vodafone Limited', type='Organization', properties={}) target=Node(id='£6,991.0M', type='Financial_value', properties={}) type='TOTAL_ASSETS_LESS_CURRENT_LIABILITIES_PREVIOUS_YEAR' properties={}\n",
      "source=Node(id='Vodafone Limited', type='Organization', properties={}) target=Node(id='£6,290.5M', type='Financial_value', properties={}) type='CREDITORS_AFTER_ONE_YEAR' properties={}\n",
      "source=Node(id='Vodafone Limited', type='Organization', properties={}) target=Node(id='£6,292.5M', type='Financial_value', properties={}) type='CREDITORS_AFTER_ONE_YEAR_PREVIOUS_YEAR' properties={}\n",
      "source=Node(id='Vodafone Limited', type='Organization', properties={}) target=Node(id='£455.5M', type='Financial_value', properties={}) type='NET_ASSETS' properties={}\n",
      "source=Node(id='Vodafone Limited', type='Organization', properties={}) target=Node(id='£592.4M', type='Financial_value', properties={}) type='NET_ASSETS_PREVIOUS_YEAR' properties={}\n",
      "source=Node(id='Vodafone Limited', type='Organization', properties={}) target=Node(id='£1.25M', type='Financial_value', properties={}) type='SHARE_CAPITAL' properties={}\n",
      "source=Node(id='Vodafone Limited', type='Organization', properties={}) target=Node(id='£1.82M', type='Financial_value', properties={}) type='SHARE_BASED_PAYMENT_RESERVE' properties={}\n",
      "source=Node(id='Vodafone Limited', type='Organization', properties={}) target=Node(id='£443.0M', type='Financial_value', properties={}) type='RESERVES' properties={}\n",
      "source=Node(id='Vodafone Limited', type='Organization', properties={}) target=Node(id='£574.2M', type='Financial_value', properties={}) type='RESERVES_PREVIOUS_YEAR' properties={}\n",
      "\n"
     ]
    }
   ],
   "source": [
    "print(\"Graph Documents:\")\n",
    "for i, gd in enumerate(graph_documents):\n",
    "    print(f\"--- Document {i+1} ---\")\n",
    "    print(\"NODES:\")\n",
    "    for node in gd.nodes:\n",
    "        print(node)\n",
    "    print(\"RELATIONSHIPS:\")\n",
    "    for rel in gd.relationships:\n",
    "        print(rel)\n",
    "    print()"
   ]
  },
  {
   "cell_type": "code",
   "execution_count": 33,
   "id": "5e6c4603",
   "metadata": {},
   "outputs": [],
   "source": [
    "# store it in Neo4j\n",
    "# https://python.langchain.com/docs/how_to/graph_constructing/\n",
    "from langchain_neo4j import Neo4jGraph\n",
    "graph = Neo4jGraph(\n",
    "    url=\"bolt://localhost:7687\",\n",
    "    username=os.getenv(\"NEO4J_USER\"),\n",
    "    password=os.getenv(\"NEO4J_PASSWORD\"),\n",
    "    refresh_schema=False\n",
    ")\n",
    "graph.add_graph_documents(graph_documents, baseEntityLabel=True, include_source=True)"
   ]
  },
  {
   "cell_type": "code",
   "execution_count": 37,
   "id": "43a617e4",
   "metadata": {},
   "outputs": [],
   "source": [
    "graph2_transformer = LLMGraphTransformer(\n",
    "    llm=llm,\n",
    "    node_properties=True,\n",
    ")\n",
    "documents = [Document(page_content=text.strip())]\n",
    "graph_documents_props = await graph2_transformer.aconvert_to_graph_documents(documents)\n"
   ]
  },
  {
   "cell_type": "code",
   "execution_count": 38,
   "id": "63732ca6",
   "metadata": {},
   "outputs": [
    {
     "name": "stdout",
     "output_type": "stream",
     "text": [
      "Graph Documents with Properties:\n",
      "--- Document 1 ---\n",
      "NODES:\n",
      "id='Vodafone Limited' type='Organization' properties={'companyNumber': '1471587', 'principalActivity': 'Provision of telecommunications services through its mobile network', 'turnoverIncrease': '7.5%', 'operatingProfit': '£139.0m', 'acquisitionCost': '£1790m', 'closingCustomers': '19,172,400', 'charitableDonations': '£2.0m', 'capitalExpenditure': '£533.5m', 'debtorsIncrease': '€3,665.1m', 'currentCreditors': '€2,798.0m', 'provisionsForLiabilities': '£160.9m', 'netAmountsDueToGroupUndertakings': '£5,259.2m', 'lossOnOrdinaryActivitiesAfterTaxation': '€131.2m', 'registeredOffice': 'Vodafone House, The Connection, Newbury, Berkshire RG14 2FN'}\n",
      "id='Mh Bond' type='Person' properties={}\n",
      "id='M Brearley' type='Person' properties={'resigned': '2010-12-17'}\n",
      "id='J Campbell' type='Person' properties={}\n",
      "id='D Cloke' type='Person' properties={'appointed': '2011-01-04'}\n",
      "id='D Crook' type='Person' properties={}\n",
      "id='S Gopalan' type='Person' properties={'appointed': '2010-08-18'}\n",
      "id='Pj A Kelly' type='Person' properties={}\n",
      "id='Sg Langkamp' type='Person' properties={}\n",
      "id='G Laurence' type='Person' properties={}\n",
      "id='J M Mundy' type='Person' properties={}\n",
      "id='T Nowak' type='Person' properties={}\n",
      "id='A Thompson' type='Person' properties={}\n",
      "id='Deloitte Llp' type='Organization' properties={'role': 'Auditor'}\n",
      "RELATIONSHIPS:\n",
      "source=Node(id='Vodafone Limited', type='Organization', properties={}) target=Node(id='Mh Bond', type='Person', properties={}) type='DIRECTOR' properties={}\n",
      "source=Node(id='Vodafone Limited', type='Organization', properties={}) target=Node(id='M Brearley', type='Person', properties={}) type='DIRECTOR' properties={}\n",
      "source=Node(id='Vodafone Limited', type='Organization', properties={}) target=Node(id='J Campbell', type='Person', properties={}) type='DIRECTOR' properties={}\n",
      "source=Node(id='Vodafone Limited', type='Organization', properties={}) target=Node(id='D Cloke', type='Person', properties={}) type='DIRECTOR' properties={}\n",
      "source=Node(id='Vodafone Limited', type='Organization', properties={}) target=Node(id='D Crook', type='Person', properties={}) type='DIRECTOR' properties={}\n",
      "source=Node(id='Vodafone Limited', type='Organization', properties={}) target=Node(id='S Gopalan', type='Person', properties={}) type='DIRECTOR' properties={}\n",
      "source=Node(id='Vodafone Limited', type='Organization', properties={}) target=Node(id='Pj A Kelly', type='Person', properties={}) type='DIRECTOR' properties={}\n",
      "source=Node(id='Vodafone Limited', type='Organization', properties={}) target=Node(id='Sg Langkamp', type='Person', properties={}) type='DIRECTOR' properties={}\n",
      "source=Node(id='Vodafone Limited', type='Organization', properties={}) target=Node(id='G Laurence', type='Person', properties={}) type='DIRECTOR' properties={}\n",
      "source=Node(id='Vodafone Limited', type='Organization', properties={}) target=Node(id='J M Mundy', type='Person', properties={}) type='DIRECTOR' properties={}\n",
      "source=Node(id='Vodafone Limited', type='Organization', properties={}) target=Node(id='T Nowak', type='Person', properties={}) type='DIRECTOR' properties={}\n",
      "source=Node(id='Vodafone Limited', type='Organization', properties={}) target=Node(id='A Thompson', type='Person', properties={}) type='DIRECTOR' properties={}\n",
      "source=Node(id='Vodafone Limited', type='Organization', properties={}) target=Node(id='Deloitte Llp', type='Organization', properties={}) type='AUDITOR' properties={}\n",
      "\n"
     ]
    }
   ],
   "source": [
    "# print node, properties\n",
    "print(\"Graph Documents with Properties:\")\n",
    "for i, gd in enumerate(graph_documents_props):\n",
    "    print(f\"--- Document {i+1} ---\")\n",
    "    print(\"NODES:\")\n",
    "    for node in gd.nodes:\n",
    "        print(node)\n",
    "    print(\"RELATIONSHIPS:\")\n",
    "    for rel in gd.relationships:\n",
    "        print(rel)\n",
    "    print()"
   ]
  },
  {
   "cell_type": "code",
   "execution_count": 39,
   "id": "fc64b54d",
   "metadata": {},
   "outputs": [],
   "source": [
    "graph.add_graph_documents(graph_documents, baseEntityLabel=True, include_source=True)"
   ]
  }
 ],
 "metadata": {
  "kernelspec": {
   "display_name": "venv",
   "language": "python",
   "name": "python3"
  },
  "language_info": {
   "codemirror_mode": {
    "name": "ipython",
    "version": 3
   },
   "file_extension": ".py",
   "mimetype": "text/x-python",
   "name": "python",
   "nbconvert_exporter": "python",
   "pygments_lexer": "ipython3",
   "version": "3.12.7"
  }
 },
 "nbformat": 4,
 "nbformat_minor": 5
}
